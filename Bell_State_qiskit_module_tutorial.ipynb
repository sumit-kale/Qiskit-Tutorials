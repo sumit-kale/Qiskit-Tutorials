{
 "cells": [
  {
   "cell_type": "markdown",
   "id": "51949769",
   "metadata": {},
   "source": [
    "# Introduction to Qiskit  "
   ]
  },
  {
   "cell_type": "markdown",
   "id": "deddce5c",
   "metadata": {},
   "source": [
    "This is a quick start tutorial to get you started with Qiskit. Qiskit is an open sourse software development kit (SDK) for working with quantum computers at the level of circuits, pulses, and algorithms. To get started follow the  <a href=\"https://qiskit.org/documentation/getting_started.html\">link</a> for the installation information. "
   ]
  },
  {
   "cell_type": "markdown",
   "id": "1a62f679",
   "metadata": {},
   "source": [
    "#### In this tutorial you will learn\n",
    "- about main features of the qiskit SDK\n",
    "- about Bell states\n",
    "- how to use quantum gate operations to construct a 2 qubit the Bell state\n",
    "- how to analyze results. \n",
    "\n",
    "**PS**: At the end of this tutorial there is a code which creates a generalized n qubit GHZ state and some exercises are given to play around the code.   "
   ]
  },
  {
   "cell_type": "markdown",
   "id": "5324e587",
   "metadata": {},
   "source": [
    "**(This is Optional)**\n",
    "\n",
    "Before heading towards the tutorial it's really important to know which framework to use specifically for which task. There are four different frameworks available in Qiskit which are known as **The Elements of Qiskit**. \n",
    "\n",
    "- **Qiskit Terra**: The 'earth' element is the foundation of qiskit and it provides the basic building blocks necessary to program quantum computers. It has some advanced modeules <a href=\"https://qiskit.org/documentation/stable/0.24/apidoc/pulse.html#module-qiskit.pulse\">``qiskit.pulse``</a> which are used to represent gates to reduce errors. \n",
    "- **Aer**: The 'air' element. It provides high performance simulator frameworks (<a href=\"https://qiskit.org/documentation/stable/0.24/stubs/qiskit.providers.aer.QasmSimulator.html#qiskit.providers.aer.QasmSimulator\">``QuasmSimulator``</a>, <a href=\"https://qiskit.org/documentation/stable/0.24/stubs/qiskit.providers.aer.StatevectorSimulator.html#qiskit.providers.aer.StatevectorSimulator\">``StatevectorSimulator``</a> and <a href=\"https://qiskit.org/documentation/stable/0.24/stubs/qiskit.providers.aer.UnitarySimulator.html#qiskit.providers.aer.UnitarySimulator\">``UnitarySimulator``</a> ) for quantum circuits.  \n",
    "- **Ignis**: The 'fire' element. It is used to design quantum error correction codes and characterize errors and improve gates. \n",
    "- **Aqua**: The 'water' element, the element of life. It focuses on the application of quantum computing towards real world applications in  <a href=\"https://qiskit.org/documentation/finance/tutorials/index.html\">``Optimization and Finance``</a>, <a href=\"https://qiskit.org/documentation/nature/\">``Chemistry and Natural Sciences``</a>\n",
    "\n",
    "Since it's an initial introduction we will only use **Aer** element (<a href=\"https://qiskit.org/documentation/stable/0.24/stubs/qiskit.providers.aer.QasmSimulator.html#qiskit.providers.aer.QasmSimulator\">``QuasmSimulator``</a>) to simulate our quantum circuits. "
   ]
  },
  {
   "cell_type": "markdown",
   "id": "bd85b801",
   "metadata": {},
   "source": [
    "#### The user workflow in Qiskit consists of four important steps:\n",
    "\n",
    "- (1) **Build**: It involves constructing a quantum circuit which represents your problem. \n",
    "- (2) **Compile**: In this step you compile your developed quantum circuit and specify the quantum device/simulator which will be used for the evaluatation.  \n",
    "- (3) **Run**: Execute your compiled quantum circuits on the specified quantum device/simulator.   \n",
    "- (4) **Analyze**: Extract the results of the execution by visualizing and looking at the summary statistics. \n",
    "\n",
    "Next we will discuss each workflow step in detail by constructing a quantum circuit which creates three qubit <a href=\"https://en.wikipedia.org/wiki/Greenberger%E2%80%93Horne%E2%80%93Zeilinger_state\">``GHZ``</a> state. "
   ]
  },
  {
   "cell_type": "markdown",
   "id": "30eed3bd",
   "metadata": {},
   "source": [
    "#### **Step 1: Build** \n",
    "\n",
    "Involves three sub-steps:\n",
    "- (a) Import packages\n",
    "- (b) Initialize variables  \n",
    "- (c) Construct the circuit by adding different gates.   "
   ]
  },
  {
   "cell_type": "markdown",
   "id": "199798a5",
   "metadata": {},
   "source": [
    "#### Step 1(a): Build (Importing packages) \n",
    "\n",
    "Importing important modules for your program. "
   ]
  },
  {
   "cell_type": "code",
   "execution_count": 1,
   "id": "3eaad6cd",
   "metadata": {},
   "outputs": [],
   "source": [
    "import numpy as np\n",
    "from qiskit import QuantumRegister, ClassicalRegister, QuantumCircuit\n",
    "from qiskit import Aer, execute\n",
    "from qiskit.tools.visualization import plot_histogram "
   ]
  },
  {
   "cell_type": "markdown",
   "id": "d6b7930a",
   "metadata": {},
   "source": [
    "Imports are explained in detail \n",
    "\n",
    "- ``QuantumRegister``: This object is used to define number/name of the quantum bits.\n",
    "- ``ClassicalRegister``: This object defines classical bits which will store the measurement information after the circuit has been measured.\n",
    "- ``QuantumCircuit``: This is the heart of your simulation which contains all the information about qubits and quantum operations involved.  \n",
    "- ``Aer``: This is the element of qiskit which contains high performance quantum simulator **QASM**. \n",
    "- ``execute``: Connects the quantum circuit with the backend and runs the quantum circuit.. \n",
    "- ``plot_histogram``: Used as a visualization tool to analyse the results."
   ]
  },
  {
   "cell_type": "markdown",
   "id": "25e69376",
   "metadata": {},
   "source": [
    "Before getting into initialization of variables here is a quick description of the target Bell/EPR state that we would like to construct. The Bell states or EPR pairs are specific quantum states of two qubits that represent the simplest (and maximal) examples of quantum entanglement; conceptually, they fall under the study of quantum information science. Being an entangled state it's non-seperable nature along with strong quantum correlations are used as a powerfull resource in many quantum algorithms.   \n",
    "\n",
    "The Bell state or 2 qubits can be represented as. \n",
    "\n",
    "\n",
    "$\\psi\\rangle = \\left(|00\\rangle+|11\\rangle\\right)/\\sqrt{2}$\n"
   ]
  },
  {
   "cell_type": "markdown",
   "id": "7e7e0309",
   "metadata": {},
   "source": [
    "#### Step 1(b): Build (Initializing variables) \n",
    "\n",
    "Setting values for the variables corresponding to the problem.  "
   ]
  },
  {
   "cell_type": "code",
   "execution_count": 2,
   "id": "cfd5db45",
   "metadata": {},
   "outputs": [],
   "source": [
    "q = QuantumRegister(2,'qubit')\n",
    "c = ClassicalRegister(2,'class')\n",
    "qc = QuantumCircuit(q,c)"
   ]
  },
  {
   "cell_type": "markdown",
   "id": "19bb3d9d",
   "metadata": {},
   "source": [
    "- ``QuantumRegister(int,char)`` creates n qubits with name char (Since we are creating state $\\left(|000\\rangle+|111\\rangle\\right)/\\sqrt{2}$) which requires 3 qubits, the valve n = 3 and name qubit.  \n",
    "- ``ClassicalRegister(int,char)`` creates n classical bits with name char which will store the measurement information from qbits after the measurements. \n",
    "- ``QuantumCircuit(qbit,cbit)`` creates a quantum circuit object with the name **qc** argument qbit corresponds to quantum registers/qubits (initialized to zeros) and cbit correspnds to the classical registers/bits (used to store the simulation result). In our case qbit = q and cbit = c.\n",
    "\n",
    "\n",
    "**Optional Note**: Since this is simple circuit you can avoid first two initializations and directly use ``QuantumCircuit(3,3)`` (Yes, there exists ``QuantumCircuit(int,int)`` version too but it's confusing and should be avoided). But if you're working on a complex algorithm you will have to specify and name different quantum registers. "
   ]
  },
  {
   "cell_type": "markdown",
   "id": "7a6139cd",
   "metadata": {},
   "source": [
    "#### Step 1(c): Build (Constructing the quantum circuit by adding different gates.) \n",
    "\n",
    "In this step different gates are added to manipulate the state so that we can reach to the targeted state. The complete list of such quantum gates/operations is available in the <a href=\"https://qiskit.org/documentation/apidoc/circuit_library.html\">``Qiskit Circuit Library``</a>. "
   ]
  },
  {
   "cell_type": "code",
   "execution_count": 3,
   "id": "ce4bfbff",
   "metadata": {},
   "outputs": [
    {
     "data": {
      "image/png": "[encoded data removed]",
      "text/plain": [
       "<Figure size 427.841x204.68 with 1 Axes>"
      ]
     },
     "execution_count": 3,
     "metadata": {},
     "output_type": "execute_result"
    }
   ],
   "source": [
    "# H gate on qubit 0, putting this qubit in qual superposition of |0> and |1>.\n",
    "qc.h(0)\n",
    "# CNOT operation with qubit 0 as control and qubit 1 as target (creates a bell state)\n",
    "qc.cx(0,1)\n",
    "# barrier is optional it makes circuit look beautiful.  \n",
    "qc.barrier() #Not really needed just makes circuit look beautiful \n",
    "# Measuring the quantum circuit and mapping qubit measurement to classical bits \n",
    "qc.measure(q,c)\n",
    "qc.draw('mpl')"
   ]
  },
  {
   "cell_type": "markdown",
   "id": "76c369de",
   "metadata": {},
   "source": [
    "Constructing a quantum circuit by adding different gates which takes our initial $ |00\\rangle $ state to $\\left(|00\\rangle+|11\\rangle\\right)/\\sqrt{2}$ target state.\n",
    "\n",
    "- To achieve this first we apply a <a href=\"https://qiskit.org/textbook/ch-states/single-qubit-gates.html#hgate\">``hadamard gate``</a>  on the qubit 0 which creates a superposition state. $ H^{0} |00\\rangle \\rightarrow \\frac{|0\\rangle+|1\\rangle}{\\sqrt{2}}|0\\rangle $\n",
    "\n",
    "- Next We apply a <a href=\"https://qiskit.org/documentation/stubs/qiskit.circuit.QuantumCircuit.cnot.html\">``CNOT``</a> operation with qubit 0 as control and qubit 1 as target. As a result we end up with a bell state in first two qubits.  $CNOT(0,1) \\frac{|0\\rangle+|1\\rangle}{\\sqrt{2}}|00\\rangle \\rightarrow \\frac{|00\\rangle+|11\\rangle}{\\sqrt{2}} = |\\phi \\rangle$\n",
    "\n",
    "\n",
    "- As a final step we ``measure(qbits,classical bits)`` the qubits and map it on classical bits as specified. \n",
    "\n",
    "- ``qc.draw('mpl')`` draws the quantum circuit.  "
   ]
  },
  {
   "cell_type": "markdown",
   "id": "c5ae7333",
   "metadata": {},
   "source": [
    "### Step 2: Compile"
   ]
  },
  {
   "cell_type": "code",
   "execution_count": 5,
   "id": "f0fe2f6a",
   "metadata": {},
   "outputs": [],
   "source": [
    "backend = Aer.get_backend('qasm_simulator')\n",
    "#Change the backend \n",
    "#Types of back end QASM, Noisy QASM and Quantum Hardware. "
   ]
  },
  {
   "cell_type": "markdown",
   "id": "88f6f1f3",
   "metadata": {},
   "source": [
    "``Aer.get_backend('qasm_simulator')`` sets the backend to **QASM** simulator to set the backend to real quantum processor follow these <a href=\"https://qiskit.org/documentation/stubs/qiskit.circuit.QuantumCircuit.cnot.html\">steps</a>.  "
   ]
  },
  {
   "cell_type": "markdown",
   "id": "a85cb56b",
   "metadata": {},
   "source": [
    "### Step 3: Running the Quantum Circuit"
   ]
  },
  {
   "cell_type": "code",
   "execution_count": 12,
   "id": "ffe39801",
   "metadata": {},
   "outputs": [],
   "source": [
    "job = execute(qc, backend=backend, seed = 100, shots=1024)"
   ]
  },
  {
   "cell_type": "markdown",
   "id": "44e96b0d",
   "metadata": {},
   "source": [
    "``execute(quantum circuit, backend, shots= int)`` creates the job corresponding to the built quantum circuit **qc** and simulating it on **QASM** with 1024 number of shots (default value). Seed is used for the purpose of reproducibility of results (Else I will have to keep changing the results in future simulations). shots represents the number of times the circuit will be evaluated"
   ]
  },
  {
   "cell_type": "markdown",
   "id": "06b025d0",
   "metadata": {},
   "source": [
    "### Step 3: Analyzing the Results "
   ]
  },
  {
   "cell_type": "code",
   "execution_count": 10,
   "id": "81744643",
   "metadata": {},
   "outputs": [
    {
     "name": "stdout",
     "output_type": "stream",
     "text": [
      "\n",
      "Total count for 000 and 111 are: {'11': 4078, '00': 3922}\n"
     ]
    }
   ],
   "source": [
    "result = job.result()\n",
    "count =result.get_counts()\n",
    "print(\"\\nTotal count for 000 and 111 are:\",count)"
   ]
  },
  {
   "cell_type": "markdown",
   "id": "c3019763",
   "metadata": {},
   "source": [
    "- ``job.result()``: extracts results from the simulation and stores it in **result** object.\n",
    "- ``result.get_counts()``: fetches the number of times $|000\\rangle$ and $|111\\rangle$ are repeated and stores it in **count** dictionary.\n",
    "- We print the number of counts.  "
   ]
  },
  {
   "cell_type": "code",
   "execution_count": 11,
   "id": "3154ede2",
   "metadata": {},
   "outputs": [
    {
     "data": {
      "image/png": "[encoded data removed]",
      "text/plain": [
       "<Figure size 504x360 with 1 Axes>"
      ]
     },
     "execution_count": 11,
     "metadata": {},
     "output_type": "execute_result"
    }
   ],
   "source": [
    "plot_histogram(count)"
   ]
  },
  {
   "cell_type": "markdown",
   "id": "b993ca15",
   "metadata": {},
   "source": [
    "``plot_histogram(dict)`` plots the probablity distribution of all possible states measured. At the end of each evaluation we will get either $|00\\rangle$ or $|11\\rangle$. Theoretically we expect to get $|000\\rangle$ and $|111\\rangle$ with equal probabilities (0.5 or 50%). Simulation shows we observe $|000\\rangle$ state with 49.8% probability and $|111\\rangle$ state with 50.2% probability. Which goes well with the theory. The small deviation is a result of two qubit gate errors accumulating while simulating it on the **QASM** simulator. "
   ]
  },
  {
   "cell_type": "markdown",
   "id": "7a69f543",
   "metadata": {},
   "source": [
    "**Quick Exercise**: Try changing the number of **shots** in the ``execution`` step and check if you can see any change/pattern.  "
   ]
  },
  {
   "cell_type": "markdown",
   "id": "effef5a1",
   "metadata": {},
   "source": [
    "Congratulations you just leared how to use Qiskit!!! The next section is completely optional where I showed a code to create a general **GHZ** state with n qubits. "
   ]
  },
  {
   "cell_type": "code",
   "execution_count": 11,
   "id": "5c658cd8",
   "metadata": {},
   "outputs": [],
   "source": [
    "#Creating a GHZ state of n qubits \n",
    "# initializing variables\n",
    "n=6                           # change the value of n to your desired value :) \n",
    "q1 = QuantumRegister(n,'qbt')\n",
    "c1 = ClassicalRegister(n,'cbit')\n",
    "qc1 = QuantumCircuit(q1,c1)"
   ]
  },
  {
   "cell_type": "code",
   "execution_count": 12,
   "id": "fd9d59fb",
   "metadata": {},
   "outputs": [
    {
     "data": {
      "image/png": "[encoded data removed]",
      "text/plain": [
       "<Figure size 890.548x445.48 with 1 Axes>"
      ]
     },
     "execution_count": 12,
     "metadata": {},
     "output_type": "execute_result"
    }
   ],
   "source": [
    "# Creating the quantum circuit\n",
    "# H gate on qubit 0, putting this qubit in qual superposition of |0> and |1>.\n",
    "qc1.h(0)\n",
    "# Entangling CNOTs \n",
    "for i in range(n-1):\n",
    "    qc1.cx(0,i+1)\n",
    "\n",
    "qc1.barrier() #Not really needed just makes circuit look beautiful \n",
    "\n",
    "qc1.measure(q1,c1)\n",
    "qc1.draw('mpl')"
   ]
  },
  {
   "cell_type": "code",
   "execution_count": 13,
   "id": "a538b613",
   "metadata": {},
   "outputs": [
    {
     "name": "stdout",
     "output_type": "stream",
     "text": [
      "\n",
      "Total count for 000 and 111 are: {'000000': 1000, '111111': 1048}\n"
     ]
    },
    {
     "data": {
      "image/png": "[encoded data removed]",
      "text/plain": [
       "<Figure size 504x360 with 1 Axes>"
      ]
     },
     "execution_count": 13,
     "metadata": {},
     "output_type": "execute_result"
    }
   ],
   "source": [
    "backend = Aer.get_backend('qasm_simulator')\n",
    "job1 = execute(qc1, backend=backend, seed = 101, shots=2048)\n",
    "result1 = job1.result()\n",
    "count1 =result1.get_counts()\n",
    "print(\"\\nTotal count for 000 and 111 are:\",count1)\n",
    "plot_histogram(count1)"
   ]
  },
  {
   "cell_type": "markdown",
   "id": "7b9cf8f4",
   "metadata": {},
   "source": [
    "**Quick Exercise**: Change the value of **n** and re-run the circuit and see how the simulation deviates from the theoretical value (0.5 or 50%). You can also change the number of **shots** too! :)   "
   ]
  },
  {
   "cell_type": "code",
   "execution_count": null,
   "id": "e8454d93",
   "metadata": {},
   "outputs": [],
   "source": []
  }
 ],
 "metadata": {
  "kernelspec": {
   "display_name": "mat2qubit",
   "language": "python",
   "name": "mat2qubit"
  },
  "language_info": {
   "codemirror_mode": {
    "name": "ipython",
    "version": 3
   },
   "file_extension": ".py",
   "mimetype": "text/x-python",
   "name": "python",
   "nbconvert_exporter": "python",
   "pygments_lexer": "ipython3",
   "version": "3.10.4"
  }
 },
 "nbformat": 4,
 "nbformat_minor": 5
}
